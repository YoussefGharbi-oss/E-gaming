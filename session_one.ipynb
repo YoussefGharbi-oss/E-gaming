{
  "nbformat": 4,
  "nbformat_minor": 0,
  "metadata": {
    "colab": {
      "provenance": [],
      "authorship_tag": "ABX9TyPDv7K/USSKY2Gas+eFxlpi",
      "include_colab_link": true
    },
    "kernelspec": {
      "name": "python3",
      "display_name": "Python 3"
    },
    "language_info": {
      "name": "python"
    }
  },
  "cells": [
    {
      "cell_type": "markdown",
      "metadata": {
        "id": "view-in-github",
        "colab_type": "text"
      },
      "source": [
        "<a href=\"https://colab.research.google.com/github/YoussefGharbi-oss/E-gaming/blob/main/session_one.ipynb\" target=\"_parent\"><img src=\"https://colab.research.google.com/assets/colab-badge.svg\" alt=\"Open In Colab\"/></a>"
      ]
    },
    {
      "cell_type": "code",
      "execution_count": null,
      "metadata": {
        "colab": {
          "base_uri": "https://localhost:8080/"
        },
        "id": "N-dN0tlReF-q",
        "outputId": "0366dd15-5838-4d48-e3ca-f5e89e739731"
      },
      "outputs": [
        {
          "output_type": "stream",
          "name": "stdout",
          "text": [
            "hello\n",
            "hello\n",
            "hello\n",
            "hello\n",
            "hello\n",
            "hello\n"
          ]
        }
      ],
      "source": [
        "print(\"hello\")\n",
        "print('hello')\n",
        "print(\"hello\")\n",
        "print(\"hello\")\n",
        "print(\"hello\")\n",
        "print(\"hello\")\n"
      ]
    },
    {
      "cell_type": "code",
      "source": [
        "# DATA Types : #######################\n",
        "# premitive data :\n",
        "# 5 , 6 , 7 , 8 , 9 , 10 , -1 , -2 ,-4  etc  => int\n",
        "# 3.14 , 5.2 , 7.2 ,19.2 => float\n",
        "# \"bonjour\" , \"hello\" , \"book\" , 'book' , \"52127\" => str\n",
        "# True , False => bool\n",
        "# Complex data types\n",
        "# liste = [\"bonjour\" , 5 , \"book\"] , tuple = (\"450\" , \"username\" , \"password\") , dictionnaire , set\n",
        "# file :\n",
        "type(True)"
      ],
      "metadata": {
        "colab": {
          "base_uri": "https://localhost:8080/"
        },
        "id": "dUD_v3CXeIgQ",
        "outputId": "8f92f0b6-4fd7-4062-f927-0056d739edf6"
      },
      "execution_count": null,
      "outputs": [
        {
          "output_type": "execute_result",
          "data": {
            "text/plain": [
              "bool"
            ]
          },
          "metadata": {},
          "execution_count": 10
        }
      ]
    },
    {
      "cell_type": "code",
      "source": [
        "x = 5\n",
        "y = 5\n",
        "name = \"Youssef\"\n",
        "age = 16\n",
        "grade =16\n"
      ],
      "metadata": {
        "colab": {
          "base_uri": "https://localhost:8080/"
        },
        "id": "JWk5LLlreInc",
        "outputId": "20bbd345-9a4f-4456-d79a-5cd33700f805"
      },
      "execution_count": null,
      "outputs": [
        {
          "output_type": "execute_result",
          "data": {
            "text/plain": [
              "16"
            ]
          },
          "metadata": {},
          "execution_count": 17
        }
      ]
    },
    {
      "cell_type": "code",
      "source": [
        "# Output :  pint(function)\n",
        "x = 5\n",
        "print(\"hello world\")\n",
        "print(\"x : \" , x)\n",
        "print(\"x : \"  ,   x)\n",
        "print(f\"x est {x}\")"
      ],
      "metadata": {
        "colab": {
          "base_uri": "https://localhost:8080/"
        },
        "id": "834riLAjjFU4",
        "outputId": "2fb33d96-71ac-48a9-9146-7faa9054c0cd"
      },
      "execution_count": null,
      "outputs": [
        {
          "output_type": "stream",
          "name": "stdout",
          "text": [
            "hello world\n",
            "x :  5\n",
            "x :  5\n",
            "x est 5\n"
          ]
        }
      ]
    },
    {
      "cell_type": "code",
      "source": [
        "# input ()\n",
        "name = input(\"Tapez votre Nom\")\n",
        "print(f\" My name is {name}\")"
      ],
      "metadata": {
        "colab": {
          "base_uri": "https://localhost:8080/"
        },
        "id": "9SI_3yDskHfx",
        "outputId": "f1d7af86-cae9-4ddf-f424-a6ecbb2bf08b"
      },
      "execution_count": null,
      "outputs": [
        {
          "output_type": "stream",
          "name": "stdout",
          "text": [
            "Tapez votre Nomahmed\n",
            " My name is cristiano\n"
          ]
        }
      ]
    },
    {
      "cell_type": "code",
      "source": [
        "#opérateurs :\n",
        "# les opérateurs arithmétiques :\n",
        "x = 10\n",
        "y = 2\n",
        "addition = x + y\n",
        "print(f\"{x} + {y} = {addition}\")\n",
        "soustraction = x - y\n",
        "print(f\"{x} - {y} = {soustraction}\")\n",
        "multiplication = x * y\n",
        "print(f\"{x} * {y} = {multiplication}\")\n",
        "division = x / y  # float\n",
        "print(f\"{x} / {y} = {division}\")\n",
        "div = x//y  # int\n",
        "print(f\"{x} // {y} = {div}\")\n",
        "reste = x%y\n",
        "print(f\"{x} % {y} = {reste}\")\n",
        "puissance = x**y\n",
        "print(f\"{x} ** {y} = {puissance}\")\n"
      ],
      "metadata": {
        "colab": {
          "base_uri": "https://localhost:8080/"
        },
        "id": "j4oNtbWKk1Q1",
        "outputId": "4f32261a-7d02-49b2-8c5f-bcece7cf2017"
      },
      "execution_count": null,
      "outputs": [
        {
          "output_type": "stream",
          "name": "stdout",
          "text": [
            "10 + 2 = 12\n",
            "10 - 2 = 8\n",
            "10 * 2 = 20\n",
            "10 / 2 = 5.0\n",
            "10 // 2 = 5\n",
            "10 % 2 = 0\n",
            "10 ** 2 = 100\n"
          ]
        }
      ]
    },
    {
      "cell_type": "code",
      "source": [
        "# les opérateurs de comparaison :\n",
        "x = 10\n",
        "y = 2\n",
        "# supérieur ou égale  :\n",
        "print(x>=y)\n",
        "#supérieur strictement\n",
        "print(x>y)\n",
        "# inférieur ou égale  :\n",
        "print(x<=y)\n",
        "#inférieur strictement\n",
        "print(x<y)\n",
        "# égale\n",
        "print(x==y)\n",
        "# diff\n",
        "print(x!=y)"
      ],
      "metadata": {
        "colab": {
          "base_uri": "https://localhost:8080/"
        },
        "id": "qUgWSKesmK5d",
        "outputId": "1feb94f9-adef-43fe-9d4d-c766f17eb840"
      },
      "execution_count": null,
      "outputs": [
        {
          "output_type": "stream",
          "name": "stdout",
          "text": [
            "True\n",
            "True\n",
            "False\n",
            "False\n",
            "False\n",
            "True\n"
          ]
        }
      ]
    },
    {
      "cell_type": "code",
      "source": [
        "# des opérateurs logique\n",
        "x = 10\n",
        "y = 2\n",
        "print(True and False)\n",
        "print(False and True)\n",
        "print(False and False)\n",
        "print(True and True)"
      ],
      "metadata": {
        "colab": {
          "base_uri": "https://localhost:8080/"
        },
        "id": "AufbJKgpmuCQ",
        "outputId": "f63f4aa7-f8bf-4211-81db-5abc5f5194a1"
      },
      "execution_count": null,
      "outputs": [
        {
          "output_type": "stream",
          "name": "stdout",
          "text": [
            "False\n",
            "False\n",
            "False\n",
            "True\n"
          ]
        }
      ]
    },
    {
      "cell_type": "code",
      "source": [
        "x = 10\n",
        "y = 2\n",
        "print(True or False)\n",
        "print(False or True)\n",
        "print(False or False)\n",
        "print(True or True)"
      ],
      "metadata": {
        "colab": {
          "base_uri": "https://localhost:8080/"
        },
        "id": "Gwa2X2vcndLU",
        "outputId": "ae89b877-e426-4416-c717-54182b3796ab"
      },
      "execution_count": null,
      "outputs": [
        {
          "output_type": "stream",
          "name": "stdout",
          "text": [
            "True\n",
            "True\n",
            "False\n",
            "True\n"
          ]
        }
      ]
    },
    {
      "cell_type": "code",
      "source": [
        "# not\n",
        "print(not True)\n",
        "print(not False)"
      ],
      "metadata": {
        "colab": {
          "base_uri": "https://localhost:8080/"
        },
        "id": "qQlDhm2Mnnh8",
        "outputId": "c2a9ee9a-7bf2-4dd1-aa3d-817aceaa1c2f"
      },
      "execution_count": null,
      "outputs": [
        {
          "output_type": "stream",
          "name": "stdout",
          "text": [
            "False\n",
            "True\n"
          ]
        }
      ]
    },
    {
      "cell_type": "code",
      "source": [],
      "metadata": {
        "id": "uDJycxECosry"
      },
      "execution_count": null,
      "outputs": []
    }
  ]
}